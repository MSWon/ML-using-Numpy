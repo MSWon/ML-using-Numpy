{
 "cells": [
  {
   "cell_type": "code",
   "execution_count": 1,
   "metadata": {
    "collapsed": true
   },
   "outputs": [],
   "source": [
    "import numpy as np"
   ]
  },
  {
   "cell_type": "code",
   "execution_count": 6,
   "metadata": {
    "collapsed": true
   },
   "outputs": [],
   "source": [
    "class LinearRegression:\n",
    "    \n",
    "    def __init__(self, Weight, Bias, Learningrate):\n",
    "        \n",
    "        self.lr = Learningrate\n",
    "        self.W = Weight\n",
    "        self.B = Bias\n",
    "    \n",
    "    def train(self, inputs_list, targets_list):\n",
    "        \n",
    "        x = np.array(inputs_list, ndmin = 2).T ## 입력값\n",
    "        y = np.array(targets_list, ndmin = 2).T ## 실제값\n",
    "        b = np.zeros((len(x), 1)) + self.B  ## bias로 이루어진 벡터\n",
    "        w = self.W ## Weight값\n",
    "        \n",
    "        n = len(x)  ## input vector 크기\n",
    "        E = (w*x + b) - y ## 추정값하고 실제값 차이\n",
    "        a = self.lr  ## learning rate\n",
    "        \n",
    "        ## W 업데이트\n",
    "        Cost_W = float(np.matmul(x.T,E)) / n   \n",
    "        self.W = self.W - a*Cost_W\n",
    "        \n",
    "        ## b 업데이트\n",
    "        Cost_b = float(sum(E))/ n\n",
    "        self.B = self.B - a*Cost_b"
   ]
  },
  {
   "cell_type": "code",
   "execution_count": 7,
   "metadata": {
    "collapsed": true
   },
   "outputs": [],
   "source": [
    "x = [1,2,3,4,5]\n",
    "y = [4,6,8,10,12]"
   ]
  },
  {
   "cell_type": "code",
   "execution_count": 26,
   "metadata": {
    "collapsed": true
   },
   "outputs": [],
   "source": [
    "n = LinearRegression(-4,1,0.1)  ## 초기 W = -4 , b = 1 , learning rate = 0.1 인 객체 생성 "
   ]
  },
  {
   "cell_type": "code",
   "execution_count": 27,
   "metadata": {
    "collapsed": false
   },
   "outputs": [
    {
     "name": "stdout",
     "output_type": "stream",
     "text": [
      "Step:   0 W = -4.0000000 , B = 1.0000000\n",
      "Step: 100 W = 1.9690469 , B = 2.1117504\n",
      "Step: 200 W = 1.9943732 , B = 2.0203145\n",
      "Step: 300 W = 1.9989771 , B = 2.0036929\n",
      "Step: 400 W = 1.9998141 , B = 2.0006713\n",
      "Step: 500 W = 1.9999662 , B = 2.0001220\n",
      "Step: 600 W = 1.9999939 , B = 2.0000222\n",
      "Step: 700 W = 1.9999989 , B = 2.0000040\n",
      "Step: 800 W = 1.9999998 , B = 2.0000007\n",
      "Step: 900 W = 2.0000000 , B = 2.0000001\n",
      "Step:1000 W = 2.0000000 , B = 2.0000000\n",
      "Step:1100 W = 2.0000000 , B = 2.0000000\n",
      "Step:1200 W = 2.0000000 , B = 2.0000000\n",
      "Step:1300 W = 2.0000000 , B = 2.0000000\n",
      "Step:1400 W = 2.0000000 , B = 2.0000000\n",
      "Step:1500 W = 2.0000000 , B = 2.0000000\n",
      "Step:1600 W = 2.0000000 , B = 2.0000000\n",
      "Step:1700 W = 2.0000000 , B = 2.0000000\n",
      "Step:1800 W = 2.0000000 , B = 2.0000000\n",
      "Step:1900 W = 2.0000000 , B = 2.0000000\n"
     ]
    }
   ],
   "source": [
    "print(\"Step:   0 W = {:.7f} , B = {:.7f}\".format(n.W,n.B))\n",
    "\n",
    "for i in range(1,2000):\n",
    "    n.train(x,y)\n",
    "    if(i % 100 == 0):\n",
    "        print(\"Step:{:4} W = {:.7f} , B = {:.7f}\".format(i,n.W,n.B))"
   ]
  },
  {
   "cell_type": "code",
   "execution_count": null,
   "metadata": {
    "collapsed": true
   },
   "outputs": [],
   "source": []
  }
 ],
 "metadata": {
  "anaconda-cloud": {},
  "kernelspec": {
   "display_name": "Python [conda root]",
   "language": "python",
   "name": "conda-root-py"
  },
  "language_info": {
   "codemirror_mode": {
    "name": "ipython",
    "version": 3
   },
   "file_extension": ".py",
   "mimetype": "text/x-python",
   "name": "python",
   "nbconvert_exporter": "python",
   "pygments_lexer": "ipython3",
   "version": "3.5.2"
  }
 },
 "nbformat": 4,
 "nbformat_minor": 1
}
