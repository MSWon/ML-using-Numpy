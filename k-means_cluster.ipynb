{
 "cells": [
  {
   "cell_type": "code",
   "execution_count": 3,
   "metadata": {
    "collapsed": true
   },
   "outputs": [],
   "source": [
    "import numpy as np\n",
    "import random\n",
    "from matplotlib import pyplot as plt"
   ]
  },
  {
   "cell_type": "code",
   "execution_count": 1,
   "metadata": {
    "collapsed": true
   },
   "outputs": [],
   "source": [
    "def k_cluster(input_data , k):\n",
    "    \n",
    "    m = input_data.shape[0]                                 ## number of data\n",
    "    index = random.sample(range(input_data.shape[0]), k)    ## index of random shuffled\n",
    "    centroid = input_data[index]                            ## initial centroid\n",
    "    \n",
    "    def euclidean(a1, a2):                                  ## defining euclidean distance\n",
    "        distance = np.power(np.sum(np.power(a1-a2,2)),0.5)\n",
    "        return(distance)\n",
    "    \n",
    "    centroid2 = []\n",
    "    tmp = centroid\n",
    "    epoch = 1\n",
    "    \n",
    "    while(not np.array_equal(tmp,centroid2)):               ## until prev,next centroid are same \n",
    "\n",
    "        group_list = {\"group_\"+str(i):[] for i in range(k)} ## dict for group\n",
    "        \n",
    "        print(\"Training epoch is {}\".format(epoch))         ## printing \"epoch\"\n",
    "        epoch += 1\n",
    "        \n",
    "        for i in range(m):\n",
    "            dist_list = [euclidean(input_data[i],j) for j in centroid]\n",
    "            group = dist_list.index(min(dist_list))\n",
    "            group_list[\"group_\"+str(group)].append(input_data[i])\n",
    "        \n",
    "        centroid2 = [np.mean(group_list[\"group_\"+str(j)],axis=0 , keepdims = True) for j in range(k)]\n",
    "        centroid2 = np.reshape(centroid2,(-1,2))\n",
    "        tmp = centroid                                      ## old one\n",
    "        centroid = centroid2                                ## update to new centroid\n",
    "        \n",
    "    result = centroid,group_list,index   \n",
    "    return result"
   ]
  },
  {
   "cell_type": "code",
   "execution_count": 4,
   "metadata": {
    "collapsed": false
   },
   "outputs": [],
   "source": [
    "np.random.seed(1234)\n",
    "input_data = np.random.randn(50,2)"
   ]
  },
  {
   "cell_type": "code",
   "execution_count": 5,
   "metadata": {
    "collapsed": false
   },
   "outputs": [
    {
     "name": "stdout",
     "output_type": "stream",
     "text": [
      "Training epoch is 1\n",
      "Training epoch is 2\n",
      "Training epoch is 3\n",
      "Training epoch is 4\n",
      "Training epoch is 5\n",
      "Training epoch is 6\n",
      "Training epoch is 7\n",
      "Training epoch is 8\n",
      "Training epoch is 9\n"
     ]
    }
   ],
   "source": [
    "centroid,cluster,index = k_cluster(input_data,2)"
   ]
  },
  {
   "cell_type": "code",
   "execution_count": 6,
   "metadata": {
    "collapsed": false
   },
   "outputs": [
    {
     "data": {
      "image/png": "[encoded data removed]",
      "text/plain": [
       "<matplotlib.figure.Figure at 0x29386f37c18>"
      ]
     },
     "metadata": {},
     "output_type": "display_data"
    }
   ],
   "source": [
    "x1 = np.array(cluster['group_0'])[:,0]\n",
    "y1 = np.array(cluster['group_0'])[:,1]\n",
    "x2 = np.array(cluster['group_1'])[:,0]\n",
    "y2 = np.array(cluster['group_1'])[:,1]\n",
    "\n",
    "plt.plot(x1,y1,\"o\",color=\"green\")\n",
    "plt.plot(x2,y2,\"o\",color=\"blue\")\n",
    "plt.plot(centroid[:,0],centroid[:,1],\"o\",color=\"red\")\n",
    "plt.xlim(-5,5)\n",
    "plt.ylim(-5,5)\n",
    "plt.show()"
   ]
  },
  {
   "cell_type": "code",
   "execution_count": null,
   "metadata": {
    "collapsed": true
   },
   "outputs": [],
   "source": []
  }
 ],
 "metadata": {
  "anaconda-cloud": {},
  "kernelspec": {
   "display_name": "Python [default]",
   "language": "python",
   "name": "python3"
  },
  "language_info": {
   "codemirror_mode": {
    "name": "ipython",
    "version": 3
   },
   "file_extension": ".py",
   "mimetype": "text/x-python",
   "name": "python",
   "nbconvert_exporter": "python",
   "pygments_lexer": "ipython3",
   "version": "3.5.2"
  }
 },
 "nbformat": 4,
 "nbformat_minor": 1
}
